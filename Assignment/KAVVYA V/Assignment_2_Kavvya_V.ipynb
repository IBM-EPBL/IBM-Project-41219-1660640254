{
  "cells": [
    {
      "cell_type": "code",
      "execution_count": null,
      "id": "b72f85a9",
      "metadata": {
        "id": "b72f85a9"
      },
      "outputs": [],
      "source": [
        "import warnings\n",
        "warnings.filterwarnings(\"ignore\")"
      ]
    },
    {
      "cell_type": "markdown",
      "id": "5994cc48",
      "metadata": {
        "id": "5994cc48"
      },
      "source": [
        "# Assignment 2 - authored by, Kavvya V\n",
        "# 1. Download the dataset from the source [here](https://drive.google.com/file/d/1_HcM0K8wt4b7FMLkc1V1dv0y6I_9ULzy/view?usp=sharing).\n",
        "\n",
        "**About the dataset:**<br>\n",
        "\n",
        "This dataset is all about churn modelling of a credit company. It has the details about the end user who are using credit card and also it has some variables to depicit the churn of the customer.<br>\n",
        "\n",
        "**RowNumber** - Serial number of the rows<br>\n",
        "**CustomerId** - Unique identification of customer<br>\n",
        "**Surname** - Name of the customer<br>\n",
        "**CreditScore** - Cipil score of the customer<br>\n",
        "**Geography** - Location of the bank<br>\n",
        "**Gender** - Sex of the customer <br>\n",
        "**Age** - Age of the customer<br>\n",
        "**Tenure** - Repayment period for the credit amount<br>\n",
        "**Balance** - Current balance in thier creidt card<br>\n",
        "**NumOfProducts** - Products owned by the customer from the company<br>\n",
        "**HasCrCard** - Has credit card or not (0 - no , 1 - yes)<br>\n",
        "**IsactiveMember** - Is a active member or not<br>\n",
        "**EstimatedSalary** - Salary of the customer<br>\n",
        "**Exited** - Churn of the customer"
      ]
    },
    {
      "cell_type": "code",
      "execution_count": null,
      "id": "8f8e9dda",
      "metadata": {
        "id": "8f8e9dda"
      },
      "outputs": [],
      "source": [
        "import pandas as pd\n",
        "import numpy as np\n",
        "import seaborn as sns\n",
        "import matplotlib.pyplot as plt"
      ]
    },
    {
      "cell_type": "markdown",
      "id": "dfdb3561",
      "metadata": {
        "id": "dfdb3561"
      },
      "source": [
        "# 2. Load the dataset"
      ]
    },
    {
      "cell_type": "code",
      "execution_count": null,
      "id": "01f646f2",
      "metadata": {
        "id": "01f646f2",
        "outputId": "21749f6a-bb3e-4152-d415-61cc9926fb40"
      },
      "outputs": [
        {
          "data": {
            "text/html": [
              "<div>\n",
              "<style scoped>\n",
              "    .dataframe tbody tr th:only-of-type {\n",
              "        vertical-align: middle;\n",
              "    }\n",
              "\n",
              "    .dataframe tbody tr th {\n",
              "        vertical-align: top;\n",
              "    }\n",
              "\n",
              "    .dataframe thead th {\n",
              "        text-align: right;\n",
              "    }\n",
              "</style>\n",
              "<table border=\"1\" class=\"dataframe\">\n",
              "  <thead>\n",
              "    <tr style=\"text-align: right;\">\n",
              "      <th></th>\n",
              "      <th>RowNumber</th>\n",
              "      <th>CustomerId</th>\n",
              "      <th>Surname</th>\n",
              "      <th>CreditScore</th>\n",
              "      <th>Geography</th>\n",
              "      <th>Gender</th>\n",
              "      <th>Age</th>\n",
              "      <th>Tenure</th>\n",
              "      <th>Balance</th>\n",
              "      <th>NumOfProducts</th>\n",
              "      <th>HasCrCard</th>\n",
              "      <th>IsActiveMember</th>\n",
              "      <th>EstimatedSalary</th>\n",
              "      <th>Exited</th>\n",
              "    </tr>\n",
              "  </thead>\n",
              "  <tbody>\n",
              "    <tr>\n",
              "      <th>0</th>\n",
              "      <td>1</td>\n",
              "      <td>15634602</td>\n",
              "      <td>Hargrave</td>\n",
              "      <td>619</td>\n",
              "      <td>France</td>\n",
              "      <td>Female</td>\n",
              "      <td>42</td>\n",
              "      <td>2</td>\n",
              "      <td>0.00</td>\n",
              "      <td>1</td>\n",
              "      <td>1</td>\n",
              "      <td>1</td>\n",
              "      <td>101348.88</td>\n",
              "      <td>1</td>\n",
              "    </tr>\n",
              "    <tr>\n",
              "      <th>1</th>\n",
              "      <td>2</td>\n",
              "      <td>15647311</td>\n",
              "      <td>Hill</td>\n",
              "      <td>608</td>\n",
              "      <td>Spain</td>\n",
              "      <td>Female</td>\n",
              "      <td>41</td>\n",
              "      <td>1</td>\n",
              "      <td>83807.86</td>\n",
              "      <td>1</td>\n",
              "      <td>0</td>\n",
              "      <td>1</td>\n",
              "      <td>112542.58</td>\n",
              "      <td>0</td>\n",
              "    </tr>\n",
              "    <tr>\n",
              "      <th>2</th>\n",
              "      <td>3</td>\n",
              "      <td>15619304</td>\n",
              "      <td>Onio</td>\n",
              "      <td>502</td>\n",
              "      <td>France</td>\n",
              "      <td>Female</td>\n",
              "      <td>42</td>\n",
              "      <td>8</td>\n",
              "      <td>159660.80</td>\n",
              "      <td>3</td>\n",
              "      <td>1</td>\n",
              "      <td>0</td>\n",
              "      <td>113931.57</td>\n",
              "      <td>1</td>\n",
              "    </tr>\n",
              "    <tr>\n",
              "      <th>3</th>\n",
              "      <td>4</td>\n",
              "      <td>15701354</td>\n",
              "      <td>Boni</td>\n",
              "      <td>699</td>\n",
              "      <td>France</td>\n",
              "      <td>Female</td>\n",
              "      <td>39</td>\n",
              "      <td>1</td>\n",
              "      <td>0.00</td>\n",
              "      <td>2</td>\n",
              "      <td>0</td>\n",
              "      <td>0</td>\n",
              "      <td>93826.63</td>\n",
              "      <td>0</td>\n",
              "    </tr>\n",
              "    <tr>\n",
              "      <th>4</th>\n",
              "      <td>5</td>\n",
              "      <td>15737888</td>\n",
              "      <td>Mitchell</td>\n",
              "      <td>850</td>\n",
              "      <td>Spain</td>\n",
              "      <td>Female</td>\n",
              "      <td>43</td>\n",
              "      <td>2</td>\n",
              "      <td>125510.82</td>\n",
              "      <td>1</td>\n",
              "      <td>1</td>\n",
              "      <td>1</td>\n",
              "      <td>79084.10</td>\n",
              "      <td>0</td>\n",
              "    </tr>\n",
              "  </tbody>\n",
              "</table>\n",
              "</div>"
            ],
            "text/plain": [
              "   RowNumber  CustomerId   Surname  CreditScore Geography  Gender  Age  \\\n",
              "0          1    15634602  Hargrave          619    France  Female   42   \n",
              "1          2    15647311      Hill          608     Spain  Female   41   \n",
              "2          3    15619304      Onio          502    France  Female   42   \n",
              "3          4    15701354      Boni          699    France  Female   39   \n",
              "4          5    15737888  Mitchell          850     Spain  Female   43   \n",
              "\n",
              "   Tenure    Balance  NumOfProducts  HasCrCard  IsActiveMember  \\\n",
              "0       2       0.00              1          1               1   \n",
              "1       1   83807.86              1          0               1   \n",
              "2       8  159660.80              3          1               0   \n",
              "3       1       0.00              2          0               0   \n",
              "4       2  125510.82              1          1               1   \n",
              "\n",
              "   EstimatedSalary  Exited  \n",
              "0        101348.88       1  \n",
              "1        112542.58       0  \n",
              "2        113931.57       1  \n",
              "3         93826.63       0  \n",
              "4         79084.10       0  "
            ]
          },
          "execution_count": 3,
          "metadata": {},
          "output_type": "execute_result"
        }
      ],
      "source": [
        "df = pd.read_csv(\"Churn_Modelling.csv\")\n",
        "df.head()"
      ]
    },
    {
      "cell_type": "code",
      "execution_count": null,
      "id": "e91d30e2",
      "metadata": {
        "id": "e91d30e2",
        "outputId": "31f06394-591d-47f8-ee8c-15cb1c806e33"
      },
      "outputs": [
        {
          "data": {
            "text/html": [
              "<div>\n",
              "<style scoped>\n",
              "    .dataframe tbody tr th:only-of-type {\n",
              "        vertical-align: middle;\n",
              "    }\n",
              "\n",
              "    .dataframe tbody tr th {\n",
              "        vertical-align: top;\n",
              "    }\n",
              "\n",
              "    .dataframe thead th {\n",
              "        text-align: right;\n",
              "    }\n",
              "</style>\n",
              "<table border=\"1\" class=\"dataframe\">\n",
              "  <thead>\n",
              "    <tr style=\"text-align: right;\">\n",
              "      <th></th>\n",
              "      <th>RowNumber</th>\n",
              "      <th>CustomerId</th>\n",
              "      <th>Surname</th>\n",
              "      <th>CreditScore</th>\n",
              "      <th>Geography</th>\n",
              "      <th>Gender</th>\n",
              "      <th>Age</th>\n",
              "      <th>Tenure</th>\n",
              "      <th>Balance</th>\n",
              "      <th>NumOfProducts</th>\n",
              "      <th>HasCrCard</th>\n",
              "      <th>IsActiveMember</th>\n",
              "      <th>EstimatedSalary</th>\n",
              "      <th>Exited</th>\n",
              "    </tr>\n",
              "  </thead>\n",
              "  <tbody>\n",
              "    <tr>\n",
              "      <th>9995</th>\n",
              "      <td>9996</td>\n",
              "      <td>15606229</td>\n",
              "      <td>Obijiaku</td>\n",
              "      <td>771</td>\n",
              "      <td>France</td>\n",
              "      <td>Male</td>\n",
              "      <td>39</td>\n",
              "      <td>5</td>\n",
              "      <td>0.00</td>\n",
              "      <td>2</td>\n",
              "      <td>1</td>\n",
              "      <td>0</td>\n",
              "      <td>96270.64</td>\n",
              "      <td>0</td>\n",
              "    </tr>\n",
              "    <tr>\n",
              "      <th>9996</th>\n",
              "      <td>9997</td>\n",
              "      <td>15569892</td>\n",
              "      <td>Johnstone</td>\n",
              "      <td>516</td>\n",
              "      <td>France</td>\n",
              "      <td>Male</td>\n",
              "      <td>35</td>\n",
              "      <td>10</td>\n",
              "      <td>57369.61</td>\n",
              "      <td>1</td>\n",
              "      <td>1</td>\n",
              "      <td>1</td>\n",
              "      <td>101699.77</td>\n",
              "      <td>0</td>\n",
              "    </tr>\n",
              "    <tr>\n",
              "      <th>9997</th>\n",
              "      <td>9998</td>\n",
              "      <td>15584532</td>\n",
              "      <td>Liu</td>\n",
              "      <td>709</td>\n",
              "      <td>France</td>\n",
              "      <td>Female</td>\n",
              "      <td>36</td>\n",
              "      <td>7</td>\n",
              "      <td>0.00</td>\n",
              "      <td>1</td>\n",
              "      <td>0</td>\n",
              "      <td>1</td>\n",
              "      <td>42085.58</td>\n",
              "      <td>1</td>\n",
              "    </tr>\n",
              "    <tr>\n",
              "      <th>9998</th>\n",
              "      <td>9999</td>\n",
              "      <td>15682355</td>\n",
              "      <td>Sabbatini</td>\n",
              "      <td>772</td>\n",
              "      <td>Germany</td>\n",
              "      <td>Male</td>\n",
              "      <td>42</td>\n",
              "      <td>3</td>\n",
              "      <td>75075.31</td>\n",
              "      <td>2</td>\n",
              "      <td>1</td>\n",
              "      <td>0</td>\n",
              "      <td>92888.52</td>\n",
              "      <td>1</td>\n",
              "    </tr>\n",
              "    <tr>\n",
              "      <th>9999</th>\n",
              "      <td>10000</td>\n",
              "      <td>15628319</td>\n",
              "      <td>Walker</td>\n",
              "      <td>792</td>\n",
              "      <td>France</td>\n",
              "      <td>Female</td>\n",
              "      <td>28</td>\n",
              "      <td>4</td>\n",
              "      <td>130142.79</td>\n",
              "      <td>1</td>\n",
              "      <td>1</td>\n",
              "      <td>0</td>\n",
              "      <td>38190.78</td>\n",
              "      <td>0</td>\n",
              "    </tr>\n",
              "  </tbody>\n",
              "</table>\n",
              "</div>"
            ],
            "text/plain": [
              "      RowNumber  CustomerId    Surname  CreditScore Geography  Gender  Age  \\\n",
              "9995       9996    15606229   Obijiaku          771    France    Male   39   \n",
              "9996       9997    15569892  Johnstone          516    France    Male   35   \n",
              "9997       9998    15584532        Liu          709    France  Female   36   \n",
              "9998       9999    15682355  Sabbatini          772   Germany    Male   42   \n",
              "9999      10000    15628319     Walker          792    France  Female   28   \n",
              "\n",
              "      Tenure    Balance  NumOfProducts  HasCrCard  IsActiveMember  \\\n",
              "9995       5       0.00              2          1               0   \n",
              "9996      10   57369.61              1          1               1   \n",
              "9997       7       0.00              1          0               1   \n",
              "9998       3   75075.31              2          1               0   \n",
              "9999       4  130142.79              1          1               0   \n",
              "\n",
              "      EstimatedSalary  Exited  \n",
              "9995         96270.64       0  \n",
              "9996        101699.77       0  \n",
              "9997         42085.58       1  \n",
              "9998         92888.52       1  \n",
              "9999         38190.78       0  "
            ]
          },
          "execution_count": 4,
          "metadata": {},
          "output_type": "execute_result"
        }
      ],
      "source": [
        "df.tail()"
      ]
    },
    {
      "cell_type": "markdown",
      "id": "15839c03",
      "metadata": {
        "id": "15839c03"
      },
      "source": [
        "# 3 a). Univariate analysis"
      ]
    },
    {
      "cell_type": "code",
      "execution_count": null,
      "id": "d47d899a",
      "metadata": {
        "id": "d47d899a",
        "outputId": "2f272da8-4643-41e3-b16a-4d65a80088e3"
      },
      "outputs": [
        {
          "name": "stdout",
          "output_type": "stream",
          "text": [
            "Categorical Variables:  3\n",
            "Numerical Variables:  11\n"
          ]
        }
      ],
      "source": [
        "#checking for categorical variables\n",
        "category = df.select_dtypes(include=[np.object])\n",
        "print(\"Categorical Variables: \",category.shape[1])\n",
        "\n",
        "#checking for numerical variables\n",
        "numerical = df.select_dtypes(include=[np.int64,np.float64])\n",
        "print(\"Numerical Variables: \",numerical.shape[1])"
      ]
    },
    {
      "cell_type": "code",
      "execution_count": null,
      "id": "01f52613",
      "metadata": {
        "id": "01f52613",
        "outputId": "6364388f-d661-4e34-d4eb-b9d757e07c0e"
      },
      "outputs": [
        {
          "data": {
            "text/plain": [
              "Index(['RowNumber', 'CustomerId', 'Surname', 'CreditScore', 'Geography',\n",
              "       'Gender', 'Age', 'Tenure', 'Balance', 'NumOfProducts', 'HasCrCard',\n",
              "       'IsActiveMember', 'EstimatedSalary', 'Exited'],\n",
              "      dtype='object')"
            ]
          },
          "execution_count": 6,
          "metadata": {},
          "output_type": "execute_result"
        }
      ],
      "source": [
        "df.columns"
      ]
    },
    {
      "cell_type": "code",
      "execution_count": null,
      "id": "1b50495a",
      "metadata": {
        "id": "1b50495a",
        "outputId": "1569ebb8-ffe3-47df-d7fc-2858e0f782e5"
      },
      "outputs": [
        {
          "data": {
            "text/plain": [
              "(10000, 14)"
            ]
          },
          "execution_count": 7,
          "metadata": {},
          "output_type": "execute_result"
        }
      ],
      "source": [
        "df.shape"
      ]
    },
    {
      "cell_type": "code",
      "execution_count": null,
      "id": "b7cf1de5",
      "metadata": {
        "id": "b7cf1de5",
        "outputId": "ae6b23ae-d349-4afe-e2bb-db1f3c994d32"
      },
      "outputs": [
        {
          "data": {
            "text/plain": [
              "<AxesSubplot:ylabel='Frequency'>"
            ]
          },
          "execution_count": 8,
          "metadata": {},
          "output_type": "execute_result"
        },
        {
          "data": {
            "image/png": "[encoded data removed]",
            "text/plain": [
              "<Figure size 576x360 with 1 Axes>"
            ]
          },
          "metadata": {
            "needs_background": "light"
          },
          "output_type": "display_data"
        }
      ],
      "source": [
        "credit = df['CreditScore']\n",
        "credit.plot(kind=\"hist\",figsize=(8,5))"
      ]
    },
    {
      "cell_type": "code",
      "execution_count": null,
      "id": "36b0fa1b",
      "metadata": {
        "id": "36b0fa1b",
        "outputId": "be0e7a00-ac35-4ca7-9dd7-b583d3ec3db2"
      },
      "outputs": [
        {
          "data": {
            "text/plain": [
              "<AxesSubplot:ylabel='Geography'>"
            ]
          },
          "execution_count": 9,
          "metadata": {},
          "output_type": "execute_result"
        },
        {
          "data": {
            "image/png": "[encoded data removed]",
            "text/plain": [
              "<Figure size 720x576 with 1 Axes>"
            ]
          },
          "metadata": {},
          "output_type": "display_data"
        }
      ],
      "source": [
        "geo = df['Geography'].value_counts()\n",
        "geo.plot(kind=\"pie\",figsize=(10,8))"
      ]
    },
    {
      "cell_type": "code",
      "execution_count": null,
      "id": "71771011",
      "metadata": {
        "id": "71771011",
        "outputId": "13baf941-b05a-4c4b-c37e-c4fbc3c78d17"
      },
      "outputs": [
        {
          "data": {
            "text/plain": [
              "<AxesSubplot:xlabel='Gender', ylabel='count'>"
            ]
          },
          "execution_count": 10,
          "metadata": {},
          "output_type": "execute_result"
        },
        {
          "data": {
            "image/png": "[encoded data removed]",
            "text/plain": [
              "<Figure size 432x288 with 1 Axes>"
            ]
          },
          "metadata": {
            "needs_background": "light"
          },
          "output_type": "display_data"
        }
      ],
      "source": [
        "sns.countplot(df['Gender'])"
      ]
    },
    {
      "cell_type": "code",
      "execution_count": null,
      "id": "4b7d805d",
      "metadata": {
        "id": "4b7d805d",
        "outputId": "ff4995a0-7eac-434c-a4b8-ea833334c105"
      },
      "outputs": [
        {
          "data": {
            "text/plain": [
              "<AxesSubplot:xlabel='Age', ylabel='Density'>"
            ]
          },
          "execution_count": 11,
          "metadata": {},
          "output_type": "execute_result"
        },
        {
          "data": {
            "image/png": "[encoded data removed]",
            "text/plain": [
              "<Figure size 432x288 with 1 Axes>"
            ]
          },
          "metadata": {
            "needs_background": "light"
          },
          "output_type": "display_data"
        }
      ],
      "source": [
        "sns.distplot(df['Age'],hist=False)"
      ]
    },
    {
      "cell_type": "code",
      "execution_count": null,
      "id": "ac5f88c1",
      "metadata": {
        "id": "ac5f88c1",
        "outputId": "5447b073-005f-42c3-89ad-90e35a398d41"
      },
      "outputs": [
        {
          "data": {
            "text/plain": [
              "<AxesSubplot:xlabel='Tenure', ylabel='count'>"
            ]
          },
          "execution_count": 12,
          "metadata": {},
          "output_type": "execute_result"
        },
        {
          "data": {
            "image/png": "[encoded data removed]",
            "text/plain": [
              "<Figure size 720x576 with 1 Axes>"
            ]
          },
          "metadata": {
            "needs_background": "light"
          },
          "output_type": "display_data"
        }
      ],
      "source": [
        "plt.figure(figsize=(10,8))\n",
        "sns.countplot(df['Tenure'])"
      ]
    },
    {
      "cell_type": "code",
      "execution_count": null,
      "id": "51850678",
      "metadata": {
        "id": "51850678",
        "outputId": "b175be97-b8be-4b1d-83fa-075701201b19"
      },
      "outputs": [
        {
          "data": {
            "text/plain": [
              "<AxesSubplot:ylabel='NumOfProducts'>"
            ]
          },
          "execution_count": 13,
          "metadata": {},
          "output_type": "execute_result"
        },
        {
          "data": {
            "image/png": "[encoded data removed]",
            "text/plain": [
              "<Figure size 720x576 with 1 Axes>"
            ]
          },
          "metadata": {},
          "output_type": "display_data"
        }
      ],
      "source": [
        "product = df['NumOfProducts'].value_counts()\n",
        "product.plot(kind=\"pie\",figsize=(10,8))"
      ]
    },
    {
      "cell_type": "code",
      "execution_count": null,
      "id": "95fec326",
      "metadata": {
        "id": "95fec326",
        "outputId": "32863a12-992e-49d1-dc59-e69f007b94ab"
      },
      "outputs": [
        {
          "data": {
            "text/plain": [
              "<AxesSubplot:ylabel='HasCrCard'>"
            ]
          },
          "execution_count": 14,
          "metadata": {},
          "output_type": "execute_result"
        },
        {
          "data": {
            "image/png": "[encoded data removed]",
            "text/plain": [
              "<Figure size 720x576 with 1 Axes>"
            ]
          },
          "metadata": {},
          "output_type": "display_data"
        }
      ],
      "source": [
        "cr = df['HasCrCard'].value_counts()\n",
        "cr.plot(kind=\"pie\",figsize=(10,8))"
      ]
    },
    {
      "cell_type": "code",
      "execution_count": null,
      "id": "33e540ae",
      "metadata": {
        "id": "33e540ae",
        "outputId": "48ab7919-4149-4022-dae9-97841333cf68"
      },
      "outputs": [
        {
          "data": {
            "text/plain": [
              "<AxesSubplot:xlabel='IsActiveMember', ylabel='count'>"
            ]
          },
          "execution_count": 15,
          "metadata": {},
          "output_type": "execute_result"
        },
        {
          "data": {
            "image/png": "[encoded data removed]",
            "text/plain": [
              "<Figure size 576x360 with 1 Axes>"
            ]
          },
          "metadata": {
            "needs_background": "light"
          },
          "output_type": "display_data"
        }
      ],
      "source": [
        "plt.figure(figsize=(8,5))\n",
        "sns.countplot(df['IsActiveMember'])"
      ]
    },
    {
      "cell_type": "code",
      "execution_count": null,
      "id": "4206278c",
      "metadata": {
        "id": "4206278c",
        "outputId": "1b458141-dfa2-4e6d-8304-ae31b2f84120"
      },
      "outputs": [
        {
          "data": {
            "text/plain": [
              "<AxesSubplot:xlabel='EstimatedSalary', ylabel='Density'>"
            ]
          },
          "execution_count": 16,
          "metadata": {},
          "output_type": "execute_result"
        },
        {
          "data": {
            "image/png": "[encoded data removed]",
            "text/plain": [
              "<Figure size 432x288 with 1 Axes>"
            ]
          },
          "metadata": {
            "needs_background": "light"
          },
          "output_type": "display_data"
        }
      ],
      "source": [
        "sns.distplot(df['EstimatedSalary'],hist=False)"
      ]
    },
    {
      "cell_type": "code",
      "execution_count": null,
      "id": "e2c58c83",
      "metadata": {
        "id": "e2c58c83",
        "outputId": "47924087-2fc7-4641-fea3-d67c967731db"
      },
      "outputs": [
        {
          "data": {
            "text/plain": [
              "<AxesSubplot:xlabel='Exited', ylabel='count'>"
            ]
          },
          "execution_count": 17,
          "metadata": {},
          "output_type": "execute_result"
        },
        {
          "data": {
            "image/png": "[encoded data removed]",
            "text/plain": [
              "<Figure size 576x360 with 1 Axes>"
            ]
          },
          "metadata": {
            "needs_background": "light"
          },
          "output_type": "display_data"
        }
      ],
      "source": [
        "plt.figure(figsize=(8,5))\n",
        "sns.countplot(df['Exited'])"
      ]
    },
    {
      "cell_type": "markdown",
      "id": "4c5e75f4",
      "metadata": {
        "id": "4c5e75f4"
      },
      "source": [
        "# Inference:\n",
        "\n",
        "1. The data has 11 numerical variables and 3 categorical variables.\n",
        "2. It has 10000 rows and 14 columns\n",
        "3. The normalized credit score is around 700, More than 500 people have credit score greater than 800.\n",
        "4. France occupies 50% of customers, where as Germany and Spain shared equal.\n",
        "5. Dataset is dominated by Male Customers.\n",
        "6. Median age is around 40 to 45.\n",
        "7. Highest number of customer has thier tenure period for 2 years.\n",
        "8. Credit company has maximum customers, who uses single product.\n",
        "9. Most of the customer has credit card.\n",
        "10. More than 40% of the population is not an active member.\n",
        "11. The Churn is less compared to the satisfaction. **Dataset is imbalanced.**"
      ]
    },
    {
      "cell_type": "markdown",
      "id": "1800d3a9",
      "metadata": {
        "id": "1800d3a9"
      },
      "source": [
        "# 3 b). Bivariate analysis"
      ]
    },
    {
      "cell_type": "code",
      "execution_count": null,
      "id": "2c73e42e",
      "metadata": {
        "id": "2c73e42e",
        "outputId": "3f8f7537-a70b-4398-e10d-892410230f2b"
      },
      "outputs": [
        {
          "data": {
            "text/plain": [
              "<AxesSubplot:xlabel='Gender', ylabel='CreditScore'>"
            ]
          },
          "execution_count": 18,
          "metadata": {},
          "output_type": "execute_result"
        },
        {
          "data": {
            "image/png": "[encoded data removed]",
            "text/plain": [
              "<Figure size 432x288 with 1 Axes>"
            ]
          },
          "metadata": {
            "needs_background": "light"
          },
          "output_type": "display_data"
        }
      ],
      "source": [
        "sns.barplot(x='Gender',y='CreditScore',hue='Geography',data=df)"
      ]
    },
    {
      "cell_type": "code",
      "execution_count": null,
      "id": "30ddc622",
      "metadata": {
        "id": "30ddc622",
        "outputId": "19651d6e-af5b-430c-8ef0-e39c53eaa2c7"
      },
      "outputs": [
        {
          "data": {
            "text/plain": [
              "<AxesSubplot:xlabel='Geography', ylabel='Balance'>"
            ]
          },
          "execution_count": 19,
          "metadata": {},
          "output_type": "execute_result"
        },
        {
          "data": {
            "image/png": "[encoded data removed]",
            "text/plain": [
              "<Figure size 432x288 with 1 Axes>"
            ]
          },
          "metadata": {
            "needs_background": "light"
          },
          "output_type": "display_data"
        }
      ],
      "source": [
        "sns.violinplot(x='Geography',y='Balance',data=df)"
      ]
    },
    {
      "cell_type": "code",
      "execution_count": null,
      "id": "14b39634",
      "metadata": {
        "id": "14b39634",
        "outputId": "853f0c9f-4f29-4dc9-e7ac-aa5ce7b1a1c5"
      },
      "outputs": [
        {
          "data": {
            "text/plain": [
              "<AxesSubplot:xlabel='Geography', ylabel='EstimatedSalary'>"
            ]
          },
          "execution_count": 20,
          "metadata": {},
          "output_type": "execute_result"
        },
        {
          "data": {
            "image/png": "[encoded data removed]",
            "text/plain": [
              "<Figure size 432x288 with 1 Axes>"
            ]
          },
          "metadata": {
            "needs_background": "light"
          },
          "output_type": "display_data"
        }
      ],
      "source": [
        "sns.violinplot(x='Geography',y='EstimatedSalary',data=df)"
      ]
    },
    {
      "cell_type": "code",
      "execution_count": null,
      "id": "c51acbaf",
      "metadata": {
        "id": "c51acbaf",
        "outputId": "663ae328-2f63-4be5-b079-c7813f5c8b42"
      },
      "outputs": [
        {
          "data": {
            "text/plain": [
              "<AxesSubplot:xlabel='Gender', ylabel='Balance'>"
            ]
          },
          "execution_count": 21,
          "metadata": {},
          "output_type": "execute_result"
        },
        {
          "data": {
            "image/png": "[encoded data removed]",
            "text/plain": [
              "<Figure size 432x288 with 1 Axes>"
            ]
          },
          "metadata": {
            "needs_background": "light"
          },
          "output_type": "display_data"
        }
      ],
      "source": [
        "sns.violinplot(x='Gender',y='Balance',data=df)"
      ]
    },
    {
      "cell_type": "code",
      "execution_count": null,
      "id": "9183cf4b",
      "metadata": {
        "id": "9183cf4b",
        "outputId": "ba6e364c-27ac-44bc-dc13-139ab4705174"
      },
      "outputs": [
        {
          "data": {
            "text/plain": [
              "<AxesSubplot:xlabel='Exited', ylabel='CreditScore'>"
            ]
          },
          "execution_count": 22,
          "metadata": {},
          "output_type": "execute_result"
        },
        {
          "data": {
            "image/png": "[encoded data removed]",
            "text/plain": [
              "<Figure size 432x288 with 1 Axes>"
            ]
          },
          "metadata": {
            "needs_background": "light"
          },
          "output_type": "display_data"
        }
      ],
      "source": [
        "sns.barplot(x='Exited',y='CreditScore',hue='Gender',data=df)"
      ]
    },
    {
      "cell_type": "code",
      "execution_count": null,
      "id": "5b0f71cb",
      "metadata": {
        "id": "5b0f71cb",
        "outputId": "4f355975-f585-4844-d841-ed8ca5f46465"
      },
      "outputs": [
        {
          "data": {
            "text/plain": [
              "<AxesSubplot:xlabel='Exited', ylabel='CreditScore'>"
            ]
          },
          "execution_count": 23,
          "metadata": {},
          "output_type": "execute_result"
        },
        {
          "data": {
            "image/png": "[encoded data removed]",
            "text/plain": [
              "<Figure size 432x288 with 1 Axes>"
            ]
          },
          "metadata": {
            "needs_background": "light"
          },
          "output_type": "display_data"
        }
      ],
      "source": [
        "sns.barplot(x='Exited',y='CreditScore',hue='Geography',data=df)"
      ]
    },
    {
      "cell_type": "code",
      "execution_count": null,
      "id": "270f50c3",
      "metadata": {
        "id": "270f50c3",
        "outputId": "54cddd1a-6317-4393-d4d5-3d5e0bdb0052"
      },
      "outputs": [
        {
          "data": {
            "text/plain": [
              "<AxesSubplot:xlabel='IsActiveMember', ylabel='EstimatedSalary'>"
            ]
          },
          "execution_count": 24,
          "metadata": {},
          "output_type": "execute_result"
        },
        {
          "data": {
            "image/png": "[encoded data removed]",
            "text/plain": [
              "<Figure size 432x288 with 1 Axes>"
            ]
          },
          "metadata": {
            "needs_background": "light"
          },
          "output_type": "display_data"
        }
      ],
      "source": [
        "sns.barplot(x='IsActiveMember',y='EstimatedSalary',hue='Gender',data=df)"
      ]
    },
    {
      "cell_type": "code",
      "execution_count": null,
      "id": "5e76d002",
      "metadata": {
        "id": "5e76d002",
        "outputId": "3090168d-5526-4c53-8e6a-50498a6118eb"
      },
      "outputs": [
        {
          "data": {
            "text/plain": [
              "<AxesSubplot:xlabel='Exited', ylabel='Tenure'>"
            ]
          },
          "execution_count": 25,
          "metadata": {},
          "output_type": "execute_result"
        },
        {
          "data": {
            "image/png": "[encoded data removed]",
            "text/plain": [
              "<Figure size 432x288 with 1 Axes>"
            ]
          },
          "metadata": {
            "needs_background": "light"
          },
          "output_type": "display_data"
        }
      ],
      "source": [
        "sns.barplot(x='Exited',y='Tenure',data=df)"
      ]
    },
    {
      "cell_type": "markdown",
      "id": "139f44b2",
      "metadata": {
        "id": "139f44b2"
      },
      "source": [
        "# Inference:\n",
        "1. Credit score for Male is higher in Spain.\n",
        "2. Average bank salary lies in the range of 100k to 150k.\n",
        "3. Estimated salary is normalized and same for all country.\n",
        "4. Credit score for churn is low.\n",
        "5. Churn in Germany is higher compared to other countries.\n",
        "6. Exited people tenure period is around 6 years."
      ]
    },
    {
      "cell_type": "markdown",
      "id": "57717f59",
      "metadata": {
        "id": "57717f59"
      },
      "source": [
        "# 3 c). Multivariate analysis"
      ]
    },
    {
      "cell_type": "code",
      "execution_count": null,
      "id": "a47a40a3",
      "metadata": {
        "id": "a47a40a3",
        "outputId": "3e8e1be7-5216-43a5-fa42-fb731d6ff128"
      },
      "outputs": [
        {
          "name": "stdout",
          "output_type": "stream",
          "text": [
            "Gender  Geography\n",
            "Female  France       2261\n",
            "        Germany      1193\n",
            "        Spain        1089\n",
            "Male    France       2753\n",
            "        Spain        1388\n",
            "        Germany      1316\n",
            "Name: Geography, dtype: int64\n"
          ]
        },
        {
          "data": {
            "image/png": "[encoded data removed]",
            "text/plain": [
              "<Figure size 720x576 with 1 Axes>"
            ]
          },
          "metadata": {},
          "output_type": "display_data"
        }
      ],
      "source": [
        "gp1 = df.groupby('Gender')['Geography'].value_counts()\n",
        "gp1.plot(kind='pie',figsize=(10,8))\n",
        "print(gp1)"
      ]
    },
    {
      "cell_type": "code",
      "execution_count": null,
      "id": "2df926c3",
      "metadata": {
        "id": "2df926c3",
        "outputId": "2c371911-4133-4303-ac39-c68d73be7a36"
      },
      "outputs": [
        {
          "name": "stdout",
          "output_type": "stream",
          "text": [
            "Gender\n",
            "Female    39.238389\n",
            "Male      38.658237\n",
            "Name: Age, dtype: float64\n"
          ]
        }
      ],
      "source": [
        "gp2 = df.groupby('Gender')['Age'].mean()\n",
        "print(gp2)"
      ]
    },
    {
      "cell_type": "code",
      "execution_count": null,
      "id": "a5073f65",
      "metadata": {
        "id": "a5073f65",
        "outputId": "34336d83-0a96-495a-9208-9f76d994e1fb"
      },
      "outputs": [
        {
          "name": "stdout",
          "output_type": "stream",
          "text": [
            "Gender  Geography\n",
            "Female  France       4.950022\n",
            "        Germany      4.965633\n",
            "        Spain        5.000000\n",
            "Male    France       5.049401\n",
            "        Germany      5.050152\n",
            "        Spain        5.057637\n",
            "Name: Tenure, dtype: float64\n"
          ]
        }
      ],
      "source": [
        "gp3 = df.groupby(['Gender','Geography'])['Tenure'].mean()\n",
        "print(gp3)"
      ]
    },
    {
      "cell_type": "code",
      "execution_count": null,
      "id": "d358746f",
      "metadata": {
        "id": "d358746f",
        "outputId": "bf1a9106-8b70-4443-8bd3-f354a79cc6ef"
      },
      "outputs": [
        {
          "name": "stdout",
          "output_type": "stream",
          "text": [
            "Geography  HasCrCard  IsActiveMember\n",
            "France     1          1                 1826\n",
            "                      0                 1717\n",
            "           0          1                  765\n",
            "                      0                  706\n",
            "Germany    1          0                  918\n",
            "                      1                  873\n",
            "           0          1                  375\n",
            "                      0                  343\n",
            "Spain      1          1                  908\n",
            "                      0                  813\n",
            "           0          1                  404\n",
            "                      0                  352\n",
            "dtype: int64\n"
          ]
        },
        {
          "data": {
            "image/png": "[encoded data removed]",
            "text/plain": [
              "<Figure size 576x360 with 1 Axes>"
            ]
          },
          "metadata": {
            "needs_background": "light"
          },
          "output_type": "display_data"
        }
      ],
      "source": [
        "gp4 = df.groupby('Geography')['HasCrCard','IsActiveMember'].value_counts()\n",
        "gp4.plot(kind=\"bar\",figsize=(8,5))\n",
        "print(gp4)"
      ]
    },
    {
      "cell_type": "code",
      "execution_count": null,
      "id": "a69bb993",
      "metadata": {
        "id": "a69bb993",
        "outputId": "94269387-a987-4486-f0ee-757afcd67713"
      },
      "outputs": [
        {
          "name": "stdout",
          "output_type": "stream",
          "text": [
            "Gender  HasCrCard  IsActiveMember\n",
            "Female  0          0                 102006.080352\n",
            "                   1                 102648.996944\n",
            "        1          0                 101208.014567\n",
            "                   1                  98510.152300\n",
            "Male    0          0                  99756.431151\n",
            "                   1                  99873.931251\n",
            "        1          0                 100353.378996\n",
            "                   1                  98914.378703\n",
            "Name: EstimatedSalary, dtype: float64\n"
          ]
        },
        {
          "data": {
            "image/png": "[encoded data removed]",
            "text/plain": [
              "<Figure size 720x576 with 1 Axes>"
            ]
          },
          "metadata": {
            "needs_background": "light"
          },
          "output_type": "display_data"
        }
      ],
      "source": [
        "gp5 = df.groupby(['Gender','HasCrCard','IsActiveMember'])['EstimatedSalary'].mean()\n",
        "gp5.plot(kind=\"line\",figsize=(10,8))\n",
        "print(gp5)"
      ]
    },
    {
      "cell_type": "code",
      "execution_count": null,
      "id": "9334c3f8",
      "metadata": {
        "id": "9334c3f8",
        "outputId": "daabbbed-61bd-4bf6-ebaf-99571c9e6d33"
      },
      "outputs": [
        {
          "name": "stdout",
          "output_type": "stream",
          "text": [
            "Gender  IsActiveMember  Exited\n",
            "Female  0               0         1534\n",
            "                        1          725\n",
            "        1               0         1870\n",
            "                        1          414\n",
            "Male    0               0         2013\n",
            "                        1          577\n",
            "        1               0         2546\n",
            "                        1          321\n",
            "Name: Exited, dtype: int64\n"
          ]
        },
        {
          "data": {
            "image/png": "[encoded data removed]",
            "text/plain": [
              "<Figure size 720x576 with 1 Axes>"
            ]
          },
          "metadata": {
            "needs_background": "light"
          },
          "output_type": "display_data"
        }
      ],
      "source": [
        "gp6 = df.groupby(['Gender','IsActiveMember'])['Exited'].value_counts()\n",
        "gp6.plot(kind='bar',figsize=(10,8))\n",
        "print(gp6)"
      ]
    },
    {
      "cell_type": "code",
      "execution_count": null,
      "id": "62aaad87",
      "metadata": {
        "id": "62aaad87",
        "outputId": "39feb05f-ca02-48f8-dcb1-d339aa49fbba"
      },
      "outputs": [
        {
          "name": "stdout",
          "output_type": "stream",
          "text": [
            "             Balance  EstimatedSalary\n",
            "Exited                               \n",
            "0       72745.296779     99738.391772\n",
            "1       91108.539337    101465.677531\n"
          ]
        }
      ],
      "source": [
        "gp7 = df.groupby('Exited')['Balance','EstimatedSalary'].mean()\n",
        "print(gp7)"
      ]
    },
    {
      "cell_type": "code",
      "execution_count": null,
      "id": "10f109e3",
      "metadata": {
        "id": "10f109e3",
        "outputId": "fbbce236-7f32-4d49-c722-504c9c0cf167"
      },
      "outputs": [
        {
          "name": "stdout",
          "output_type": "stream",
          "text": [
            "Gender  Geography  Exited\n",
            "Female  France     0         1801\n",
            "        Spain      0          858\n",
            "        Germany    0          745\n",
            "        France     1          460\n",
            "        Germany    1          448\n",
            "        Spain      1          231\n",
            "Male    France     0         2403\n",
            "        Spain      0         1206\n",
            "        Germany    0          950\n",
            "                   1          366\n",
            "        France     1          350\n",
            "        Spain      1          182\n",
            "dtype: int64\n"
          ]
        },
        {
          "data": {
            "image/png": "[encoded data removed]",
            "text/plain": [
              "<Figure size 720x576 with 1 Axes>"
            ]
          },
          "metadata": {
            "needs_background": "light"
          },
          "output_type": "display_data"
        }
      ],
      "source": [
        "gp8 = df.groupby('Gender')['Geography','Exited'].value_counts()\n",
        "gp8.plot(kind='bar',figsize=(10,8))\n",
        "print (gp8)"
      ]
    },
    {
      "cell_type": "markdown",
      "id": "386e2e98",
      "metadata": {
        "id": "386e2e98"
      },
      "source": [
        "# Inference:\n",
        "1. Germany has more female customers compared to male customers.\n",
        "2. Average age of Male is 38, whereas average age of Female is 39.\n",
        "3. Tenure period for both male and female is high in Spain.\n",
        "4. It is observed that, those who have credit card are very active member in the company.\n",
        "5. The estimated salary for a person who is not having credit card is high when compared to those having them.\n",
        "6. Churn for inactive member is high compared to active member.\n",
        "7. Those who churn has thier estimated salary very low.\n",
        "8. France has the more churn rate."
      ]
    },
    {
      "cell_type": "markdown",
      "id": "a15a2f2b",
      "metadata": {
        "id": "a15a2f2b"
      },
      "source": [
        "# 4. Descriptive statistics"
      ]
    },
    {
      "cell_type": "code",
      "execution_count": null,
      "id": "28db9c86",
      "metadata": {
        "id": "28db9c86",
        "outputId": "59acfe43-425d-4793-e0ba-662fcc24030d"
      },
      "outputs": [
        {
          "data": {
            "text/html": [
              "<div>\n",
              "<style scoped>\n",
              "    .dataframe tbody tr th:only-of-type {\n",
              "        vertical-align: middle;\n",
              "    }\n",
              "\n",
              "    .dataframe tbody tr th {\n",
              "        vertical-align: top;\n",
              "    }\n",
              "\n",
              "    .dataframe thead th {\n",
              "        text-align: right;\n",
              "    }\n",
              "</style>\n",
              "<table border=\"1\" class=\"dataframe\">\n",
              "  <thead>\n",
              "    <tr style=\"text-align: right;\">\n",
              "      <th></th>\n",
              "      <th>count</th>\n",
              "      <th>mean</th>\n",
              "      <th>std</th>\n",
              "      <th>min</th>\n",
              "      <th>25%</th>\n",
              "      <th>50%</th>\n",
              "      <th>75%</th>\n",
              "      <th>max</th>\n",
              "    </tr>\n",
              "  </thead>\n",
              "  <tbody>\n",
              "    <tr>\n",
              "      <th>RowNumber</th>\n",
              "      <td>10000.0</td>\n",
              "      <td>5.000500e+03</td>\n",
              "      <td>2886.895680</td>\n",
              "      <td>1.00</td>\n",
              "      <td>2500.75</td>\n",
              "      <td>5.000500e+03</td>\n",
              "      <td>7.500250e+03</td>\n",
              "      <td>10000.00</td>\n",
              "    </tr>\n",
              "    <tr>\n",
              "      <th>CustomerId</th>\n",
              "      <td>10000.0</td>\n",
              "      <td>1.569094e+07</td>\n",
              "      <td>71936.186123</td>\n",
              "      <td>15565701.00</td>\n",
              "      <td>15628528.25</td>\n",
              "      <td>1.569074e+07</td>\n",
              "      <td>1.575323e+07</td>\n",
              "      <td>15815690.00</td>\n",
              "    </tr>\n",
              "    <tr>\n",
              "      <th>CreditScore</th>\n",
              "      <td>10000.0</td>\n",
              "      <td>6.505288e+02</td>\n",
              "      <td>96.653299</td>\n",
              "      <td>350.00</td>\n",
              "      <td>584.00</td>\n",
              "      <td>6.520000e+02</td>\n",
              "      <td>7.180000e+02</td>\n",
              "      <td>850.00</td>\n",
              "    </tr>\n",
              "    <tr>\n",
              "      <th>Age</th>\n",
              "      <td>10000.0</td>\n",
              "      <td>3.892180e+01</td>\n",
              "      <td>10.487806</td>\n",
              "      <td>18.00</td>\n",
              "      <td>32.00</td>\n",
              "      <td>3.700000e+01</td>\n",
              "      <td>4.400000e+01</td>\n",
              "      <td>92.00</td>\n",
              "    </tr>\n",
              "    <tr>\n",
              "      <th>Tenure</th>\n",
              "      <td>10000.0</td>\n",
              "      <td>5.012800e+00</td>\n",
              "      <td>2.892174</td>\n",
              "      <td>0.00</td>\n",
              "      <td>3.00</td>\n",
              "      <td>5.000000e+00</td>\n",
              "      <td>7.000000e+00</td>\n",
              "      <td>10.00</td>\n",
              "    </tr>\n",
              "    <tr>\n",
              "      <th>Balance</th>\n",
              "      <td>10000.0</td>\n",
              "      <td>7.648589e+04</td>\n",
              "      <td>62397.405202</td>\n",
              "      <td>0.00</td>\n",
              "      <td>0.00</td>\n",
              "      <td>9.719854e+04</td>\n",
              "      <td>1.276442e+05</td>\n",
              "      <td>250898.09</td>\n",
              "    </tr>\n",
              "    <tr>\n",
              "      <th>NumOfProducts</th>\n",
              "      <td>10000.0</td>\n",
              "      <td>1.530200e+00</td>\n",
              "      <td>0.581654</td>\n",
              "      <td>1.00</td>\n",
              "      <td>1.00</td>\n",
              "      <td>1.000000e+00</td>\n",
              "      <td>2.000000e+00</td>\n",
              "      <td>4.00</td>\n",
              "    </tr>\n",
              "    <tr>\n",
              "      <th>HasCrCard</th>\n",
              "      <td>10000.0</td>\n",
              "      <td>7.055000e-01</td>\n",
              "      <td>0.455840</td>\n",
              "      <td>0.00</td>\n",
              "      <td>0.00</td>\n",
              "      <td>1.000000e+00</td>\n",
              "      <td>1.000000e+00</td>\n",
              "      <td>1.00</td>\n",
              "    </tr>\n",
              "    <tr>\n",
              "      <th>IsActiveMember</th>\n",
              "      <td>10000.0</td>\n",
              "      <td>5.151000e-01</td>\n",
              "      <td>0.499797</td>\n",
              "      <td>0.00</td>\n",
              "      <td>0.00</td>\n",
              "      <td>1.000000e+00</td>\n",
              "      <td>1.000000e+00</td>\n",
              "      <td>1.00</td>\n",
              "    </tr>\n",
              "    <tr>\n",
              "      <th>EstimatedSalary</th>\n",
              "      <td>10000.0</td>\n",
              "      <td>1.000902e+05</td>\n",
              "      <td>57510.492818</td>\n",
              "      <td>11.58</td>\n",
              "      <td>51002.11</td>\n",
              "      <td>1.001939e+05</td>\n",
              "      <td>1.493882e+05</td>\n",
              "      <td>199992.48</td>\n",
              "    </tr>\n",
              "    <tr>\n",
              "      <th>Exited</th>\n",
              "      <td>10000.0</td>\n",
              "      <td>2.037000e-01</td>\n",
              "      <td>0.402769</td>\n",
              "      <td>0.00</td>\n",
              "      <td>0.00</td>\n",
              "      <td>0.000000e+00</td>\n",
              "      <td>0.000000e+00</td>\n",
              "      <td>1.00</td>\n",
              "    </tr>\n",
              "  </tbody>\n",
              "</table>\n",
              "</div>"
            ],
            "text/plain": [
              "                   count          mean           std          min  \\\n",
              "RowNumber        10000.0  5.000500e+03   2886.895680         1.00   \n",
              "CustomerId       10000.0  1.569094e+07  71936.186123  15565701.00   \n",
              "CreditScore      10000.0  6.505288e+02     96.653299       350.00   \n",
              "Age              10000.0  3.892180e+01     10.487806        18.00   \n",
              "Tenure           10000.0  5.012800e+00      2.892174         0.00   \n",
              "Balance          10000.0  7.648589e+04  62397.405202         0.00   \n",
              "NumOfProducts    10000.0  1.530200e+00      0.581654         1.00   \n",
              "HasCrCard        10000.0  7.055000e-01      0.455840         0.00   \n",
              "IsActiveMember   10000.0  5.151000e-01      0.499797         0.00   \n",
              "EstimatedSalary  10000.0  1.000902e+05  57510.492818        11.58   \n",
              "Exited           10000.0  2.037000e-01      0.402769         0.00   \n",
              "\n",
              "                         25%           50%           75%          max  \n",
              "RowNumber            2500.75  5.000500e+03  7.500250e+03     10000.00  \n",
              "CustomerId       15628528.25  1.569074e+07  1.575323e+07  15815690.00  \n",
              "CreditScore           584.00  6.520000e+02  7.180000e+02       850.00  \n",
              "Age                    32.00  3.700000e+01  4.400000e+01        92.00  \n",
              "Tenure                  3.00  5.000000e+00  7.000000e+00        10.00  \n",
              "Balance                 0.00  9.719854e+04  1.276442e+05    250898.09  \n",
              "NumOfProducts           1.00  1.000000e+00  2.000000e+00         4.00  \n",
              "HasCrCard               0.00  1.000000e+00  1.000000e+00         1.00  \n",
              "IsActiveMember          0.00  1.000000e+00  1.000000e+00         1.00  \n",
              "EstimatedSalary     51002.11  1.001939e+05  1.493882e+05    199992.48  \n",
              "Exited                  0.00  0.000000e+00  0.000000e+00         1.00  "
            ]
          },
          "execution_count": 34,
          "metadata": {},
          "output_type": "execute_result"
        }
      ],
      "source": [
        "df.describe().T"
      ]
    },
    {
      "cell_type": "markdown",
      "id": "56b054d4",
      "metadata": {
        "id": "56b054d4"
      },
      "source": [
        "# 5. Handling the missing values"
      ]
    },
    {
      "cell_type": "code",
      "execution_count": null,
      "id": "0ddc48d8",
      "metadata": {
        "id": "0ddc48d8",
        "outputId": "2343c479-9259-4cfa-b933-4c7899b94441"
      },
      "outputs": [
        {
          "data": {
            "text/plain": [
              "RowNumber          0\n",
              "CustomerId         0\n",
              "Surname            0\n",
              "CreditScore        0\n",
              "Geography          0\n",
              "Gender             0\n",
              "Age                0\n",
              "Tenure             0\n",
              "Balance            0\n",
              "NumOfProducts      0\n",
              "HasCrCard          0\n",
              "IsActiveMember     0\n",
              "EstimatedSalary    0\n",
              "Exited             0\n",
              "dtype: int64"
            ]
          },
          "execution_count": 35,
          "metadata": {},
          "output_type": "execute_result"
        }
      ],
      "source": [
        "df.isnull().sum()"
      ]
    },
    {
      "cell_type": "markdown",
      "id": "22cd5018",
      "metadata": {
        "id": "22cd5018"
      },
      "source": [
        "**There is no missing value in the dataset**"
      ]
    },
    {
      "cell_type": "markdown",
      "id": "00d7ef99",
      "metadata": {
        "id": "00d7ef99"
      },
      "source": [
        "# 6. Finding outliers"
      ]
    },
    {
      "cell_type": "code",
      "execution_count": null,
      "id": "4bc4dccf",
      "metadata": {
        "id": "4bc4dccf"
      },
      "outputs": [],
      "source": [
        "def replace_outliers(df, field_name):\n",
        "    Q1 = np.percentile(df[field_name],25,interpolation='midpoint')\n",
        "    Q3 = np.percentile(df[field_name],75,interpolation='midpoint')\n",
        "    IQR = Q3-Q1\n",
        "    maxi = Q3+1.5*IQR\n",
        "    mini = Q1-1.5*IQR\n",
        "    df[field_name]=df[field_name].mask(df[field_name]>maxi,maxi)\n",
        "    df[field_name]=df[field_name].mask(df[field_name]<mini,mini)"
      ]
    },
    {
      "cell_type": "code",
      "execution_count": null,
      "id": "361d7fe0",
      "metadata": {
        "id": "361d7fe0",
        "outputId": "36540888-58aa-4fc3-b8ce-d531ab393c7b"
      },
      "outputs": [
        {
          "data": {
            "image/png": "[encoded data removed]",
            "text/plain": [
              "<Figure size 432x288 with 1 Axes>"
            ]
          },
          "metadata": {
            "needs_background": "light"
          },
          "output_type": "display_data"
        },
        {
          "data": {
            "image/png": "[encoded data removed]",
            "text/plain": [
              "<Figure size 432x288 with 1 Axes>"
            ]
          },
          "metadata": {
            "needs_background": "light"
          },
          "output_type": "display_data"
        }
      ],
      "source": [
        "plt.title(\"Before removing outliers\")\n",
        "sns.boxplot(df['CreditScore'])\n",
        "plt.show()\n",
        "plt.title(\"After removing outliers\")\n",
        "replace_outliers(df, 'CreditScore')\n",
        "sns.boxplot(df['CreditScore'])\n",
        "plt.show()"
      ]
    },
    {
      "cell_type": "code",
      "execution_count": null,
      "id": "c4e6bdaf",
      "metadata": {
        "id": "c4e6bdaf",
        "outputId": "e6ea3637-01b5-4b23-8e8c-acb2695c91c0"
      },
      "outputs": [
        {
          "data": {
            "image/png": "[encoded data removed]",
            "text/plain": [
              "<Figure size 432x288 with 1 Axes>"
            ]
          },
          "metadata": {
            "needs_background": "light"
          },
          "output_type": "display_data"
        },
        {
          "data": {
            "image/png": "[encoded data removed]",
            "text/plain": [
              "<Figure size 432x288 with 1 Axes>"
            ]
          },
          "metadata": {
            "needs_background": "light"
          },
          "output_type": "display_data"
        }
      ],
      "source": [
        "plt.title(\"Before removing outliers\")\n",
        "sns.boxplot(df['Age'])\n",
        "plt.show()\n",
        "plt.title(\"After removing outliers\")\n",
        "replace_outliers(df, 'Age')\n",
        "sns.boxplot(df['Age'])\n",
        "plt.show()"
      ]
    },
    {
      "cell_type": "code",
      "execution_count": null,
      "id": "d48d7b7a",
      "metadata": {
        "id": "d48d7b7a",
        "outputId": "62393da5-f944-4c1e-bd17-318260c4cc0e"
      },
      "outputs": [
        {
          "data": {
            "text/plain": [
              "<AxesSubplot:xlabel='Balance'>"
            ]
          },
          "execution_count": 39,
          "metadata": {},
          "output_type": "execute_result"
        },
        {
          "data": {
            "image/png": "[encoded data removed]",
            "text/plain": [
              "<Figure size 432x288 with 1 Axes>"
            ]
          },
          "metadata": {
            "needs_background": "light"
          },
          "output_type": "display_data"
        }
      ],
      "source": [
        "sns.boxplot(df['Balance'])"
      ]
    },
    {
      "cell_type": "code",
      "execution_count": null,
      "id": "7d98fa65",
      "metadata": {
        "id": "7d98fa65",
        "outputId": "a267fc05-0873-49fa-a21c-a359f8be710c"
      },
      "outputs": [
        {
          "data": {
            "text/plain": [
              "<AxesSubplot:xlabel='EstimatedSalary'>"
            ]
          },
          "execution_count": 40,
          "metadata": {},
          "output_type": "execute_result"
        },
        {
          "data": {
            "image/png": "[encoded data removed]",
            "text/plain": [
              "<Figure size 432x288 with 1 Axes>"
            ]
          },
          "metadata": {
            "needs_background": "light"
          },
          "output_type": "display_data"
        }
      ],
      "source": [
        "sns.boxplot(df['EstimatedSalary'])"
      ]
    },
    {
      "cell_type": "markdown",
      "id": "d26d286c",
      "metadata": {
        "id": "d26d286c"
      },
      "source": [
        "**Outliers from Age and Credit Score columns are removed**"
      ]
    },
    {
      "cell_type": "markdown",
      "id": "99bdf91a",
      "metadata": {
        "id": "99bdf91a"
      },
      "source": [
        "# 7. Check for categorical column and perform encoding."
      ]
    },
    {
      "cell_type": "code",
      "execution_count": null,
      "id": "6a191b53",
      "metadata": {
        "id": "6a191b53"
      },
      "outputs": [],
      "source": [
        "from sklearn.preprocessing import LabelEncoder\n",
        "le = LabelEncoder()"
      ]
    },
    {
      "cell_type": "code",
      "execution_count": null,
      "id": "8937ca48",
      "metadata": {
        "id": "8937ca48"
      },
      "outputs": [],
      "source": [
        "df['Gender'] = le.fit_transform(df['Gender'])\n",
        "df['Geography'] = le.fit_transform(df['Geography'])"
      ]
    },
    {
      "cell_type": "code",
      "execution_count": null,
      "id": "f66d0c3b",
      "metadata": {
        "id": "f66d0c3b",
        "outputId": "94167ca1-3fe3-464a-9e4b-d8087748d995"
      },
      "outputs": [
        {
          "data": {
            "text/html": [
              "<div>\n",
              "<style scoped>\n",
              "    .dataframe tbody tr th:only-of-type {\n",
              "        vertical-align: middle;\n",
              "    }\n",
              "\n",
              "    .dataframe tbody tr th {\n",
              "        vertical-align: top;\n",
              "    }\n",
              "\n",
              "    .dataframe thead th {\n",
              "        text-align: right;\n",
              "    }\n",
              "</style>\n",
              "<table border=\"1\" class=\"dataframe\">\n",
              "  <thead>\n",
              "    <tr style=\"text-align: right;\">\n",
              "      <th></th>\n",
              "      <th>RowNumber</th>\n",
              "      <th>CustomerId</th>\n",
              "      <th>Surname</th>\n",
              "      <th>CreditScore</th>\n",
              "      <th>Geography</th>\n",
              "      <th>Gender</th>\n",
              "      <th>Age</th>\n",
              "      <th>Tenure</th>\n",
              "      <th>Balance</th>\n",
              "      <th>NumOfProducts</th>\n",
              "      <th>HasCrCard</th>\n",
              "      <th>IsActiveMember</th>\n",
              "      <th>EstimatedSalary</th>\n",
              "      <th>Exited</th>\n",
              "    </tr>\n",
              "  </thead>\n",
              "  <tbody>\n",
              "    <tr>\n",
              "      <th>0</th>\n",
              "      <td>1</td>\n",
              "      <td>15634602</td>\n",
              "      <td>Hargrave</td>\n",
              "      <td>619.0</td>\n",
              "      <td>0</td>\n",
              "      <td>0</td>\n",
              "      <td>42.0</td>\n",
              "      <td>2</td>\n",
              "      <td>0.00</td>\n",
              "      <td>1</td>\n",
              "      <td>1</td>\n",
              "      <td>1</td>\n",
              "      <td>101348.88</td>\n",
              "      <td>1</td>\n",
              "    </tr>\n",
              "    <tr>\n",
              "      <th>1</th>\n",
              "      <td>2</td>\n",
              "      <td>15647311</td>\n",
              "      <td>Hill</td>\n",
              "      <td>608.0</td>\n",
              "      <td>2</td>\n",
              "      <td>0</td>\n",
              "      <td>41.0</td>\n",
              "      <td>1</td>\n",
              "      <td>83807.86</td>\n",
              "      <td>1</td>\n",
              "      <td>0</td>\n",
              "      <td>1</td>\n",
              "      <td>112542.58</td>\n",
              "      <td>0</td>\n",
              "    </tr>\n",
              "    <tr>\n",
              "      <th>2</th>\n",
              "      <td>3</td>\n",
              "      <td>15619304</td>\n",
              "      <td>Onio</td>\n",
              "      <td>502.0</td>\n",
              "      <td>0</td>\n",
              "      <td>0</td>\n",
              "      <td>42.0</td>\n",
              "      <td>8</td>\n",
              "      <td>159660.80</td>\n",
              "      <td>3</td>\n",
              "      <td>1</td>\n",
              "      <td>0</td>\n",
              "      <td>113931.57</td>\n",
              "      <td>1</td>\n",
              "    </tr>\n",
              "    <tr>\n",
              "      <th>3</th>\n",
              "      <td>4</td>\n",
              "      <td>15701354</td>\n",
              "      <td>Boni</td>\n",
              "      <td>699.0</td>\n",
              "      <td>0</td>\n",
              "      <td>0</td>\n",
              "      <td>39.0</td>\n",
              "      <td>1</td>\n",
              "      <td>0.00</td>\n",
              "      <td>2</td>\n",
              "      <td>0</td>\n",
              "      <td>0</td>\n",
              "      <td>93826.63</td>\n",
              "      <td>0</td>\n",
              "    </tr>\n",
              "    <tr>\n",
              "      <th>4</th>\n",
              "      <td>5</td>\n",
              "      <td>15737888</td>\n",
              "      <td>Mitchell</td>\n",
              "      <td>850.0</td>\n",
              "      <td>2</td>\n",
              "      <td>0</td>\n",
              "      <td>43.0</td>\n",
              "      <td>2</td>\n",
              "      <td>125510.82</td>\n",
              "      <td>1</td>\n",
              "      <td>1</td>\n",
              "      <td>1</td>\n",
              "      <td>79084.10</td>\n",
              "      <td>0</td>\n",
              "    </tr>\n",
              "  </tbody>\n",
              "</table>\n",
              "</div>"
            ],
            "text/plain": [
              "   RowNumber  CustomerId   Surname  CreditScore  Geography  Gender   Age  \\\n",
              "0          1    15634602  Hargrave        619.0          0       0  42.0   \n",
              "1          2    15647311      Hill        608.0          2       0  41.0   \n",
              "2          3    15619304      Onio        502.0          0       0  42.0   \n",
              "3          4    15701354      Boni        699.0          0       0  39.0   \n",
              "4          5    15737888  Mitchell        850.0          2       0  43.0   \n",
              "\n",
              "   Tenure    Balance  NumOfProducts  HasCrCard  IsActiveMember  \\\n",
              "0       2       0.00              1          1               1   \n",
              "1       1   83807.86              1          0               1   \n",
              "2       8  159660.80              3          1               0   \n",
              "3       1       0.00              2          0               0   \n",
              "4       2  125510.82              1          1               1   \n",
              "\n",
              "   EstimatedSalary  Exited  \n",
              "0        101348.88       1  \n",
              "1        112542.58       0  \n",
              "2        113931.57       1  \n",
              "3         93826.63       0  \n",
              "4         79084.10       0  "
            ]
          },
          "execution_count": 43,
          "metadata": {},
          "output_type": "execute_result"
        }
      ],
      "source": [
        "df.head()"
      ]
    },
    {
      "cell_type": "markdown",
      "id": "2c3169b1",
      "metadata": {
        "id": "2c3169b1"
      },
      "source": [
        "**Only two columns(Gender and Geography) is label encoded**"
      ]
    },
    {
      "cell_type": "markdown",
      "id": "27c4254a",
      "metadata": {
        "id": "27c4254a"
      },
      "source": [
        "# Removing unwanted columns and checking for feature importance"
      ]
    },
    {
      "cell_type": "code",
      "execution_count": null,
      "id": "661c8b85",
      "metadata": {
        "id": "661c8b85"
      },
      "outputs": [],
      "source": [
        "df = df.drop(['RowNumber','CustomerId','Surname'],axis=1)"
      ]
    },
    {
      "cell_type": "code",
      "execution_count": null,
      "id": "dfb0ae9b",
      "metadata": {
        "id": "dfb0ae9b",
        "outputId": "b86e7dcb-0b25-4768-8bc9-2f545ba3b79c"
      },
      "outputs": [
        {
          "data": {
            "text/html": [
              "<div>\n",
              "<style scoped>\n",
              "    .dataframe tbody tr th:only-of-type {\n",
              "        vertical-align: middle;\n",
              "    }\n",
              "\n",
              "    .dataframe tbody tr th {\n",
              "        vertical-align: top;\n",
              "    }\n",
              "\n",
              "    .dataframe thead th {\n",
              "        text-align: right;\n",
              "    }\n",
              "</style>\n",
              "<table border=\"1\" class=\"dataframe\">\n",
              "  <thead>\n",
              "    <tr style=\"text-align: right;\">\n",
              "      <th></th>\n",
              "      <th>CreditScore</th>\n",
              "      <th>Geography</th>\n",
              "      <th>Gender</th>\n",
              "      <th>Age</th>\n",
              "      <th>Tenure</th>\n",
              "      <th>Balance</th>\n",
              "      <th>NumOfProducts</th>\n",
              "      <th>HasCrCard</th>\n",
              "      <th>IsActiveMember</th>\n",
              "      <th>EstimatedSalary</th>\n",
              "      <th>Exited</th>\n",
              "    </tr>\n",
              "  </thead>\n",
              "  <tbody>\n",
              "    <tr>\n",
              "      <th>0</th>\n",
              "      <td>619.0</td>\n",
              "      <td>0</td>\n",
              "      <td>0</td>\n",
              "      <td>42.0</td>\n",
              "      <td>2</td>\n",
              "      <td>0.00</td>\n",
              "      <td>1</td>\n",
              "      <td>1</td>\n",
              "      <td>1</td>\n",
              "      <td>101348.88</td>\n",
              "      <td>1</td>\n",
              "    </tr>\n",
              "    <tr>\n",
              "      <th>1</th>\n",
              "      <td>608.0</td>\n",
              "      <td>2</td>\n",
              "      <td>0</td>\n",
              "      <td>41.0</td>\n",
              "      <td>1</td>\n",
              "      <td>83807.86</td>\n",
              "      <td>1</td>\n",
              "      <td>0</td>\n",
              "      <td>1</td>\n",
              "      <td>112542.58</td>\n",
              "      <td>0</td>\n",
              "    </tr>\n",
              "    <tr>\n",
              "      <th>2</th>\n",
              "      <td>502.0</td>\n",
              "      <td>0</td>\n",
              "      <td>0</td>\n",
              "      <td>42.0</td>\n",
              "      <td>8</td>\n",
              "      <td>159660.80</td>\n",
              "      <td>3</td>\n",
              "      <td>1</td>\n",
              "      <td>0</td>\n",
              "      <td>113931.57</td>\n",
              "      <td>1</td>\n",
              "    </tr>\n",
              "    <tr>\n",
              "      <th>3</th>\n",
              "      <td>699.0</td>\n",
              "      <td>0</td>\n",
              "      <td>0</td>\n",
              "      <td>39.0</td>\n",
              "      <td>1</td>\n",
              "      <td>0.00</td>\n",
              "      <td>2</td>\n",
              "      <td>0</td>\n",
              "      <td>0</td>\n",
              "      <td>93826.63</td>\n",
              "      <td>0</td>\n",
              "    </tr>\n",
              "    <tr>\n",
              "      <th>4</th>\n",
              "      <td>850.0</td>\n",
              "      <td>2</td>\n",
              "      <td>0</td>\n",
              "      <td>43.0</td>\n",
              "      <td>2</td>\n",
              "      <td>125510.82</td>\n",
              "      <td>1</td>\n",
              "      <td>1</td>\n",
              "      <td>1</td>\n",
              "      <td>79084.10</td>\n",
              "      <td>0</td>\n",
              "    </tr>\n",
              "  </tbody>\n",
              "</table>\n",
              "</div>"
            ],
            "text/plain": [
              "   CreditScore  Geography  Gender   Age  Tenure    Balance  NumOfProducts  \\\n",
              "0        619.0          0       0  42.0       2       0.00              1   \n",
              "1        608.0          2       0  41.0       1   83807.86              1   \n",
              "2        502.0          0       0  42.0       8  159660.80              3   \n",
              "3        699.0          0       0  39.0       1       0.00              2   \n",
              "4        850.0          2       0  43.0       2  125510.82              1   \n",
              "\n",
              "   HasCrCard  IsActiveMember  EstimatedSalary  Exited  \n",
              "0          1               1        101348.88       1  \n",
              "1          0               1        112542.58       0  \n",
              "2          1               0        113931.57       1  \n",
              "3          0               0         93826.63       0  \n",
              "4          1               1         79084.10       0  "
            ]
          },
          "execution_count": 45,
          "metadata": {},
          "output_type": "execute_result"
        }
      ],
      "source": [
        "df.head()"
      ]
    },
    {
      "cell_type": "code",
      "execution_count": null,
      "id": "bce73686",
      "metadata": {
        "id": "bce73686",
        "outputId": "73591f86-0a65-427d-b651-bb1dd120ee44"
      },
      "outputs": [
        {
          "data": {
            "text/plain": [
              "<AxesSubplot:>"
            ]
          },
          "execution_count": 46,
          "metadata": {},
          "output_type": "execute_result"
        },
        {
          "data": {
            "image/png": "[encoded data removed]",
            "text/plain": [
              "<Figure size 1440x720 with 2 Axes>"
            ]
          },
          "metadata": {
            "needs_background": "light"
          },
          "output_type": "display_data"
        }
      ],
      "source": [
        "plt.figure(figsize=(20,10))\n",
        "df_lt = df.corr(method = \"pearson\")\n",
        "df_lt1 = df_lt.where(np.tril(np.ones(df_lt.shape)).astype(np.bool))\n",
        "sns.heatmap(df_lt1,annot=True,cmap=\"coolwarm\")"
      ]
    },
    {
      "cell_type": "markdown",
      "id": "1f2499f9",
      "metadata": {
        "id": "1f2499f9"
      },
      "source": [
        "**1. The Removed columns are nothing to do with model building.**<br>\n",
        "**2. Feature importance also checked using pearson correlation.**"
      ]
    },
    {
      "cell_type": "markdown",
      "id": "f5f9fadb",
      "metadata": {
        "id": "f5f9fadb"
      },
      "source": [
        "# 8. Data Splitting"
      ]
    },
    {
      "cell_type": "code",
      "execution_count": null,
      "id": "2d2b9a9a",
      "metadata": {
        "id": "2d2b9a9a"
      },
      "outputs": [],
      "source": [
        "target = df['Exited']\n",
        "data = df.drop(['Exited'],axis=1)"
      ]
    },
    {
      "cell_type": "code",
      "execution_count": null,
      "id": "16761af1",
      "metadata": {
        "id": "16761af1",
        "outputId": "2eac3574-85ff-444b-f9bf-3da3da313e7d"
      },
      "outputs": [
        {
          "name": "stdout",
          "output_type": "stream",
          "text": [
            "(10000, 10)\n",
            "(10000,)\n"
          ]
        }
      ],
      "source": [
        "print(data.shape)\n",
        "print(target.shape)"
      ]
    },
    {
      "cell_type": "markdown",
      "id": "6530170a",
      "metadata": {
        "id": "6530170a"
      },
      "source": [
        "# 9. Scaling the independent values"
      ]
    },
    {
      "cell_type": "code",
      "execution_count": null,
      "id": "5107a44c",
      "metadata": {
        "id": "5107a44c"
      },
      "outputs": [],
      "source": [
        "from sklearn.preprocessing import StandardScaler\n",
        "se = StandardScaler()"
      ]
    },
    {
      "cell_type": "code",
      "execution_count": null,
      "id": "a55730a0",
      "metadata": {
        "id": "a55730a0"
      },
      "outputs": [],
      "source": [
        "data['CreditScore'] = se.fit_transform(pd.DataFrame(data['CreditScore']))\n",
        "data['Age'] = se.fit_transform(pd.DataFrame(data['Age']))\n",
        "data['Balance'] = se.fit_transform(pd.DataFrame(data['Balance']))\n",
        "data['EstimatedSalary'] = se.fit_transform(pd.DataFrame(data['EstimatedSalary']))"
      ]
    },
    {
      "cell_type": "code",
      "execution_count": null,
      "id": "16368006",
      "metadata": {
        "id": "16368006",
        "outputId": "ba9066de-d57c-4767-8f06-85114d358086"
      },
      "outputs": [
        {
          "data": {
            "text/html": [
              "<div>\n",
              "<style scoped>\n",
              "    .dataframe tbody tr th:only-of-type {\n",
              "        vertical-align: middle;\n",
              "    }\n",
              "\n",
              "    .dataframe tbody tr th {\n",
              "        vertical-align: top;\n",
              "    }\n",
              "\n",
              "    .dataframe thead th {\n",
              "        text-align: right;\n",
              "    }\n",
              "</style>\n",
              "<table border=\"1\" class=\"dataframe\">\n",
              "  <thead>\n",
              "    <tr style=\"text-align: right;\">\n",
              "      <th></th>\n",
              "      <th>CreditScore</th>\n",
              "      <th>Geography</th>\n",
              "      <th>Gender</th>\n",
              "      <th>Age</th>\n",
              "      <th>Tenure</th>\n",
              "      <th>Balance</th>\n",
              "      <th>NumOfProducts</th>\n",
              "      <th>HasCrCard</th>\n",
              "      <th>IsActiveMember</th>\n",
              "      <th>EstimatedSalary</th>\n",
              "    </tr>\n",
              "  </thead>\n",
              "  <tbody>\n",
              "    <tr>\n",
              "      <th>0</th>\n",
              "      <td>-0.326878</td>\n",
              "      <td>0</td>\n",
              "      <td>0</td>\n",
              "      <td>0.342615</td>\n",
              "      <td>2</td>\n",
              "      <td>-1.225848</td>\n",
              "      <td>1</td>\n",
              "      <td>1</td>\n",
              "      <td>1</td>\n",
              "      <td>0.021886</td>\n",
              "    </tr>\n",
              "    <tr>\n",
              "      <th>1</th>\n",
              "      <td>-0.440804</td>\n",
              "      <td>2</td>\n",
              "      <td>0</td>\n",
              "      <td>0.240011</td>\n",
              "      <td>1</td>\n",
              "      <td>0.117350</td>\n",
              "      <td>1</td>\n",
              "      <td>0</td>\n",
              "      <td>1</td>\n",
              "      <td>0.216534</td>\n",
              "    </tr>\n",
              "    <tr>\n",
              "      <th>2</th>\n",
              "      <td>-1.538636</td>\n",
              "      <td>0</td>\n",
              "      <td>0</td>\n",
              "      <td>0.342615</td>\n",
              "      <td>8</td>\n",
              "      <td>1.333053</td>\n",
              "      <td>3</td>\n",
              "      <td>1</td>\n",
              "      <td>0</td>\n",
              "      <td>0.240687</td>\n",
              "    </tr>\n",
              "    <tr>\n",
              "      <th>3</th>\n",
              "      <td>0.501675</td>\n",
              "      <td>0</td>\n",
              "      <td>0</td>\n",
              "      <td>0.034803</td>\n",
              "      <td>1</td>\n",
              "      <td>-1.225848</td>\n",
              "      <td>2</td>\n",
              "      <td>0</td>\n",
              "      <td>0</td>\n",
              "      <td>-0.108918</td>\n",
              "    </tr>\n",
              "    <tr>\n",
              "      <th>4</th>\n",
              "      <td>2.065569</td>\n",
              "      <td>2</td>\n",
              "      <td>0</td>\n",
              "      <td>0.445219</td>\n",
              "      <td>2</td>\n",
              "      <td>0.785728</td>\n",
              "      <td>1</td>\n",
              "      <td>1</td>\n",
              "      <td>1</td>\n",
              "      <td>-0.365276</td>\n",
              "    </tr>\n",
              "  </tbody>\n",
              "</table>\n",
              "</div>"
            ],
            "text/plain": [
              "   CreditScore  Geography  Gender       Age  Tenure   Balance  NumOfProducts  \\\n",
              "0    -0.326878          0       0  0.342615       2 -1.225848              1   \n",
              "1    -0.440804          2       0  0.240011       1  0.117350              1   \n",
              "2    -1.538636          0       0  0.342615       8  1.333053              3   \n",
              "3     0.501675          0       0  0.034803       1 -1.225848              2   \n",
              "4     2.065569          2       0  0.445219       2  0.785728              1   \n",
              "\n",
              "   HasCrCard  IsActiveMember  EstimatedSalary  \n",
              "0          1               1         0.021886  \n",
              "1          0               1         0.216534  \n",
              "2          1               0         0.240687  \n",
              "3          0               0        -0.108918  \n",
              "4          1               1        -0.365276  "
            ]
          },
          "execution_count": 51,
          "metadata": {},
          "output_type": "execute_result"
        }
      ],
      "source": [
        "data.head()"
      ]
    },
    {
      "cell_type": "markdown",
      "id": "7f941b25",
      "metadata": {
        "id": "7f941b25"
      },
      "source": [
        "# 10. Train test split"
      ]
    },
    {
      "cell_type": "code",
      "execution_count": null,
      "id": "76b5e449",
      "metadata": {
        "id": "76b5e449"
      },
      "outputs": [],
      "source": [
        "from sklearn.model_selection import train_test_split\n",
        "X_train,X_test,y_train,y_test = train_test_split(data,target,test_size=0.25,random_state=101)"
      ]
    },
    {
      "cell_type": "code",
      "execution_count": null,
      "id": "b0c570d6",
      "metadata": {
        "id": "b0c570d6",
        "outputId": "caa44bcd-cc13-433d-95f6-a0adb29ad67a"
      },
      "outputs": [
        {
          "name": "stdout",
          "output_type": "stream",
          "text": [
            "(7500, 10)\n",
            "(2500, 10)\n",
            "(7500,)\n",
            "(2500,)\n"
          ]
        }
      ],
      "source": [
        "print(X_train.shape)\n",
        "print(X_test.shape)\n",
        "print(y_train.shape)\n",
        "print(y_test.shape)"
      ]
    },
    {
      "cell_type": "markdown",
      "id": "c3b2b997",
      "metadata": {
        "id": "c3b2b997"
      },
      "source": [
        "# Conclusion:\n",
        "1. The model is scaled using StandarScaler method.\n",
        "2. The train and test split ratio is 15:5.\n",
        "3. As it is a classification problem, basic algorithms can be used to build ML models."
      ]
    }
  ],
  "metadata": {
    "kernelspec": {
      "display_name": "Python 3",
      "language": "python",
      "name": "python3"
    },
    "language_info": {
      "codemirror_mode": {
        "name": "ipython",
        "version": 3
      },
      "file_extension": ".py",
      "mimetype": "text/x-python",
      "name": "python",
      "nbconvert_exporter": "python",
      "pygments_lexer": "ipython3",
      "version": "3.8.8"
    },
    "colab": {
      "provenance": []
    }
  },
  "nbformat": 4,
  "nbformat_minor": 5
}